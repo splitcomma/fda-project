{
 "cells": [
  {
   "cell_type": "markdown",
   "id": "8ab5b9aa",
   "metadata": {},
   "source": [
    "## Exercise 1\n",
    "\n",
    "Write a Python function to remove all non-alphanumeric characters from a string."
   ]
  },
  {
   "cell_type": "code",
   "execution_count": 7,
   "id": "0935b24b",
   "metadata": {},
   "outputs": [],
   "source": [
    "def remove_non_alphanum(s):\n",
    "    # Use a regular expression to search for non-alphanumeric characters\n",
    "    import re\n",
    "    return re.sub(r'\\W+', '', s)"
   ]
  },
  {
   "cell_type": "markdown",
   "id": "9a66ce84",
   "metadata": {},
   "source": [
    "This function uses the re module to search for all non-alphanumeric characters in the string using a regular expression. The sub() function is then used to replace all of these characters with an empty string. This effectively removes the characters from the original string."
   ]
  },
  {
   "cell_type": "code",
   "execution_count": 8,
   "id": "2a6bf359",
   "metadata": {},
   "outputs": [
    {
     "name": "stdout",
     "output_type": "stream",
     "text": [
      "Hellohowareyou\n"
     ]
    }
   ],
   "source": [
    "#  Testing the function:\n",
    "inputStr = \"Hello, how are you?!@#:::\"\n",
    "outputStr = remove_non_alphanum(inputStr)\n",
    "print(outputStr)"
   ]
  },
  {
   "cell_type": "markdown",
   "id": "faa3ca26",
   "metadata": {},
   "source": [
    "## Exercise 2\n",
    "\n",
    "Adapt the above code and plots so that the overall plot is inversely propertional and the individual groups are directly rpoportional."
   ]
  },
  {
   "cell_type": "code",
   "execution_count": null,
   "id": "650c6b40",
   "metadata": {},
   "outputs": [],
   "source": []
  }
 ],
 "metadata": {
  "kernelspec": {
   "display_name": "Python 3 (ipykernel)",
   "language": "python",
   "name": "python3"
  },
  "language_info": {
   "codemirror_mode": {
    "name": "ipython",
    "version": 3
   },
   "file_extension": ".py",
   "mimetype": "text/x-python",
   "name": "python",
   "nbconvert_exporter": "python",
   "pygments_lexer": "ipython3",
   "version": "3.9.7"
  }
 },
 "nbformat": 4,
 "nbformat_minor": 5
}
