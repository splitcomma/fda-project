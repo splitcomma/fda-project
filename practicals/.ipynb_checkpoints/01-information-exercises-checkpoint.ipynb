{
 "cells": [
  {
   "cell_type": "markdown",
   "id": "ce3730a3",
   "metadata": {},
   "source": [
    "# Lecture: Information "
   ]
  },
  {
   "cell_type": "code",
   "execution_count": 1,
   "id": "b5ae8269",
   "metadata": {},
   "outputs": [],
   "source": [
    "# below code used from lecture \n",
    "import urllib.request\n",
    "import random\n",
    "\n",
    "book_url = 'https://www.gutenberg.org/files/11/11-0.txt'\n",
    "book = list(urllib.request.urlopen(book_url))\n",
    "book = [line.decode('utf-8-sig').strip() for line in book]\n",
    "chars = 'abcdefghijklmnopqrstuvwxyz '\n",
    "sbook = ''.join(book[26:]).lower()"
   ]
  },
  {
   "cell_type": "markdown",
   "id": "0ca5ca11",
   "metadata": {},
   "source": [
    "# Exercise 1\n",
    "\n",
    "## Adapt the code below to generate a 1000 character long string with weights based on the previous two characters.\n",
    "\n",
    "### Code is building random text based on the weigths previous letter's occurance in the book Alice in Wonderland \n",
    "#### twoghts = {c: {d: sbook.count(c + d) for d in chars} for c in chars}\n",
    "\n",
    "#### Start with space.\n",
    "#### pairs = ' '\n",
    "\n",
    "#### Do the following N-1 times.\n",
    "#### for i in range(1, N):\n",
    "#### Get the weights where the previous character is the last character in twos.\n",
    "#### wt = twoghts[pairs[-1]]\n",
    "#### Turn wt into a list, ordered by chars.\n",
    "#### wt = [wt[c] for c in chars]\n",
    "#### Randomly pick the next character using those weights.\n",
    "#### nextc = random.choices(chars, weights=wt, k=1)[0]\n",
    "#### Append the character to twos.\n",
    "#### pairs = pairs + nextc"
   ]
  },
  {
   "cell_type": "code",
   "execution_count": 19,
   "id": "557210eb",
   "metadata": {},
   "outputs": [],
   "source": [
    "# adapting code \"twoghts\" to get weights for previous 2 charaters\n",
    "threeghts = {c: {d: {e: sbook.count(c + d + e) for e in chars} for d in chars} for c in chars}\n",
    "# Starting with letter pair t and a \n",
    "tripple = 'ta'\n",
    "# length set to 1000\n",
    "N = 999\n",
    "\n",
    "for i in range(1, N):\n",
    "# weight set for previous two charaters     \n",
    "    wt = threeghts[tripple[-2]][tripple[-1]]\n",
    "    wt = [wt[c] for c in chars]\n",
    "    nextc = random.choices(chars, weights=wt, k=1)[0]\n",
    "    tripple = tripple + nextc"
   ]
  },
  {
   "cell_type": "code",
   "execution_count": 20,
   "id": "5aef144b",
   "metadata": {
    "scrolled": false
   },
   "outputs": [
    {
     "name": "stdout",
     "output_type": "stream",
     "text": [
      "talseneed comed the ting aftem dorem of thims obought wichated to the se copyrin hento withe quesnatch opight hark yought versaych happyried she chinsing tersed usti wic whowly ind at sain forke causeeptelashed not fenbehoughte mearreaganotice will eylas ing to wouseembleave coupdand brad to samence sheive werepries sicers ne maddittlice lice shon in treent thavole theseve welon rojectgut hinand said frinut of the hillat itfuld shou morchat ited some dreaturisto alice oute wondeer fludit be quir whout beging thenciffelinwortneaughbothown the ther only bus a compawaske she whave dong herg wayingal wild othe id to the my lead dor gread ey suck of a rome comock alied lice of sing dow afted it morl to grepeatte gry a forut inagir sto and to youst the pard did chaturset duchad he he wenty as andelp thanow rar the realicent dore ren ithad youghe suchen in cancergere booked lice sailles all whad gir time hes neving soment was was hemn and culd the suraven foomence of lend the opyre mand thent\n"
     ]
    }
   ],
   "source": [
    "print(tripple)"
   ]
  },
  {
   "cell_type": "code",
   "execution_count": 15,
   "id": "215a48b6",
   "metadata": {},
   "outputs": [
    {
     "data": {
      "text/plain": [
       "1000"
      ]
     },
     "execution_count": 15,
     "metadata": {},
     "output_type": "execute_result"
    }
   ],
   "source": [
    "len(tripple)\n",
    "\n"
   ]
  },
  {
   "cell_type": "markdown",
   "id": "816ab420",
   "metadata": {},
   "source": [
    "## Exercise 2\n",
    "\n",
    "Explain why the log of zero is undefined."
   ]
  },
  {
   "cell_type": "code",
   "execution_count": null,
   "id": "c045cd30",
   "metadata": {},
   "outputs": [],
   "source": []
  }
 ],
 "metadata": {
  "kernelspec": {
   "display_name": "Python 3 (ipykernel)",
   "language": "python",
   "name": "python3"
  },
  "language_info": {
   "codemirror_mode": {
    "name": "ipython",
    "version": 3
   },
   "file_extension": ".py",
   "mimetype": "text/x-python",
   "name": "python",
   "nbconvert_exporter": "python",
   "pygments_lexer": "ipython3",
   "version": "3.9.7"
  }
 },
 "nbformat": 4,
 "nbformat_minor": 5
}
