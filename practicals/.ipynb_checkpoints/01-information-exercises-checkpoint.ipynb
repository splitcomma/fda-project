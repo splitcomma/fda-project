{
 "cells": [
  {
   "cell_type": "markdown",
   "id": "ce3730a3",
   "metadata": {},
   "source": [
    "# Lecture: Information "
   ]
  },
  {
   "cell_type": "code",
   "execution_count": 1,
   "id": "b5ae8269",
   "metadata": {},
   "outputs": [],
   "source": [
    "# below code used from lecture \n",
    "import urllib.request\n",
    "import random\n",
    "\n",
    "book_url = 'https://www.gutenberg.org/files/11/11-0.txt'\n",
    "book = list(urllib.request.urlopen(book_url))\n",
    "book = [line.decode('utf-8-sig').strip() for line in book]\n",
    "chars = 'abcdefghijklmnopqrstuvwxyz '\n",
    "sbook = ''.join(book[26:]).lower()"
   ]
  },
  {
   "cell_type": "markdown",
   "id": "0ca5ca11",
   "metadata": {},
   "source": [
    "# Exercise 1\n",
    "\n",
    "## Adapt the code below to generate a 1000 character long string with weights based on the previous two characters.\n",
    "\n",
    "### Code is building random text based on the weigths previous letter's occurance in the book Alice in Wonderland \n",
    "#### twoghts = {c: {d: sbook.count(c + d) for d in chars} for c in chars}\n",
    "\n",
    "#### Start with space.\n",
    "#### pairs = ' '\n",
    "\n",
    "#### Do the following N-1 times.\n",
    "#### for i in range(1, N):\n",
    "#### Get the weights where the previous character is the last character in twos.\n",
    "#### wt = twoghts[pairs[-1]]\n",
    "#### Turn wt into a list, ordered by chars.\n",
    "#### wt = [wt[c] for c in chars]\n",
    "#### Randomly pick the next character using those weights.\n",
    "#### nextc = random.choices(chars, weights=wt, k=1)[0]\n",
    "#### Append the character to twos.\n",
    "#### pairs = pairs + nextc"
   ]
  },
  {
   "cell_type": "code",
   "execution_count": 18,
   "id": "557210eb",
   "metadata": {},
   "outputs": [],
   "source": [
    "# adapting code \"twoghts\" to get weights for previous 2 charaters, variable = dictionary with probabilty based on last 2 chararters\n",
    "threeghts = {c: {d: {e: sbook.count(c + d + e) for e in chars} for d in chars} for c in chars}\n",
    "# Starting with letter pair t and a \n",
    "tripple = 'ta'\n",
    "# length set to 1000\n",
    "N = 999\n",
    "\n",
    "for i in range(1, N):\n",
    "# weight set for previous two charaters     \n",
    "    wt = threeghts[tripple[-2]][tripple[-1]]\n",
    "    wt = [wt[c] for c in chars]\n",
    "    nextc = random.choices(chars, weights=wt, k=1)[0]\n",
    "    tripple = tripple + nextc"
   ]
  },
  {
   "cell_type": "code",
   "execution_count": 19,
   "id": "6f91ea23",
   "metadata": {
    "scrolled": false
   },
   "outputs": [
    {
     "name": "stdout",
     "output_type": "stream",
     "text": [
      "tar the cumbleaturrigner few lices plice kingnicerse a did the one ortalwas this alf becourse wasays therpilittlyingit of ciat saysat thembroks thes sheren out the prowerhey th ang happerance pute ber al to twonly con mis so fry alice fir reduch thent thenting thigh and and reme stice mod gestooliess for he gards flyseck tes shered but fices hoes coareaver led lovineve mattly an for ver eadnot thing ing has sh eingo helf annesom thgot thiso thoused hat yaright that chent the than a nor cris a luded itild thold she my twork a promeas ands pinat a to beliked quis the she fived and itne mette hour accought of hadeng for tookurt saught pars moseents at marrink the he out madvis a gaid to up it was as nottearand the thadderemougrojectime ou thing he the dow may on fee shoup offecoas sher my thergest been eversom lare whow signifir coludge waybe thenice und bew th timenbertall hardallas in upoor whiten he withe joythe ked thery ot since said ton soss as asay prould therehat dalf th haveremag\n"
     ]
    }
   ],
   "source": [
    "print(tripple)"
   ]
  },
  {
   "cell_type": "code",
   "execution_count": 4,
   "id": "8579a992",
   "metadata": {},
   "outputs": [
    {
     "data": {
      "text/plain": [
       "1000"
      ]
     },
     "execution_count": 4,
     "metadata": {},
     "output_type": "execute_result"
    }
   ],
   "source": [
    "len(tripple)\n",
    "\n"
   ]
  },
  {
   "cell_type": "markdown",
   "id": "816ab420",
   "metadata": {},
   "source": [
    "## Exercise 2\n",
    "\n",
    "Explain why the log of zero is undefined."
   ]
  },
  {
   "cell_type": "markdown",
   "id": "ad89006c",
   "metadata": {},
   "source": [
    "The logarithm function is defined as the inverse of the exponentiation function. For any positive real number b, the logarithm of b to base a is defined as the exponent to which a must be raised in order to produce b. In other words, if x is the logarithm of b to base a, then a^x = b.\n",
    "\n",
    "The logarithm of a number b to base a is only defined if b is a positive real number. Since 0 is not a positive real number, the logarithm of 0 to any base is undefined. It's not a real number, because you can never get zero by raising anything to the power of anything else.\n",
    "\n",
    "For example, the logarithm of 8 to base 2 is 3, because 2^3 = 8. The logarithm of 1 to any base is always 0, because any number raised to the power of 0 is 1.\n",
    "For example, the logarithm of 0 to base 2 is undefined, because 2^x = 0 has no solution for x. The logarithm of 0 to base 10 is also undefined, because 10^x = 0 has no solution for x."
   ]
  },
  {
   "cell_type": "markdown",
   "id": "53dbb0b8",
   "metadata": {},
   "source": [
    "References:\n",
    "\n",
    "http://www.mclph.umn.edu/mathrefresh/logs3.html#:~:text=2.-,log%200%20is%20undefined.,infinitely%20large%20and%20negative%20power.\n",
    "\n",
    "https://chat.openai.com/chat\n",
    "\n",
    "https://www.rapidtables.com/math/algebra/logarithm/Logarithm_of_0.html"
   ]
  }
 ],
 "metadata": {
  "kernelspec": {
   "display_name": "Python 3 (ipykernel)",
   "language": "python",
   "name": "python3"
  },
  "language_info": {
   "codemirror_mode": {
    "name": "ipython",
    "version": 3
   },
   "file_extension": ".py",
   "mimetype": "text/x-python",
   "name": "python",
   "nbconvert_exporter": "python",
   "pygments_lexer": "ipython3",
   "version": "3.9.7"
  }
 },
 "nbformat": 4,
 "nbformat_minor": 5
}
