{
 "cells": [
  {
   "cell_type": "markdown",
   "id": "0867418a",
   "metadata": {},
   "source": [
    "### Exercise 1\n",
    "\n",
    "Give three real-world examples of different types of cognitive bias."
   ]
  },
  {
   "cell_type": "markdown",
   "id": "94bd6eab",
   "metadata": {},
   "source": [
    "1. Sunk cost bias\n",
    "\n",
    "Choosing to finish a boring movie because you already paid for the ticket is an example of the sunk cost fallacy. Another example is keeping an incompetent employee on staff rather than replacing them because the company has already invested tens of thousands of dollars training them.\n",
    "\n",
    "2. Hindsight bias\n",
    "\n",
    "Hindsight bias is actually a case of \"I knew in advance that this would happen\", which is often experienced by stock traders, investors. Hindsight bias is the tendency to perceive events that have already occurred as being more predictable or inevitable than they actually were. This bias can lead people to overestimate their ability to have accurately predicted an event, and to underestimate the role of chance or randomness in the outcome. Hindsight bias can have negative consequences, as it can lead people to underestimate the role of chance or randomness in events and to overestimate their own ability to predict the future. It can also make it difficult for people to learn from their mistakes, as they may attribute their failures to lack of skill rather than to chance or randomness. \n",
    "\n",
    "3. Anchoring bias\n",
    "\n",
    "This is the tendency to rely too heavily on the first piece of information encountered when making a decision. For example, if someone is asked to estimate the price Imagine that you are selling your house, and you have listed it for €300,000. A potential buyer makes an offer of €250,000, which is lower than your asking price. Even though the offer is significantly lower than your asking price, you may still be more inclined to accept it because the offer of €250,000 has anchored your expectations for what your house is worth. As a result, you may be less likely to negotiate for a higher price or to consider other offers that might be more in line with your asking price."
   ]
  },
  {
   "cell_type": "markdown",
   "id": "42dab354",
   "metadata": {},
   "source": [
    "### Exercise 2\n",
    "\n",
    "Show that the difference between the standard deviation calculations is greatest for small sample sizes."
   ]
  },
  {
   "cell_type": "code",
   "execution_count": null,
   "id": "859a5a36",
   "metadata": {},
   "outputs": [],
   "source": []
  }
 ],
 "metadata": {
  "kernelspec": {
   "display_name": "Python 3 (ipykernel)",
   "language": "python",
   "name": "python3"
  },
  "language_info": {
   "codemirror_mode": {
    "name": "ipython",
    "version": 3
   },
   "file_extension": ".py",
   "mimetype": "text/x-python",
   "name": "python",
   "nbconvert_exporter": "python",
   "pygments_lexer": "ipython3",
   "version": "3.9.7"
  }
 },
 "nbformat": 4,
 "nbformat_minor": 5
}
