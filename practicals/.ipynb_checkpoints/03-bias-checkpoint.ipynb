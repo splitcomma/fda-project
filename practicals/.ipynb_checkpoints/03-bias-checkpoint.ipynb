{
 "cells": [
  {
   "cell_type": "markdown",
   "id": "0867418a",
   "metadata": {},
   "source": [
    "### Exercise 1\n",
    "\n",
    "Give three real-world examples of different types of cognitive bias."
   ]
  },
  {
   "cell_type": "code",
   "execution_count": null,
   "id": "2dfa70ff",
   "metadata": {},
   "outputs": [],
   "source": []
  },
  {
   "cell_type": "markdown",
   "id": "42dab354",
   "metadata": {},
   "source": [
    "### Exercise 2\n",
    "\n",
    "Show that the difference between the standard deviation calculations is greatest for small sample sizes."
   ]
  },
  {
   "cell_type": "code",
   "execution_count": null,
   "id": "859a5a36",
   "metadata": {},
   "outputs": [],
   "source": []
  }
 ],
 "metadata": {
  "kernelspec": {
   "display_name": "Python 3 (ipykernel)",
   "language": "python",
   "name": "python3"
  },
  "language_info": {
   "codemirror_mode": {
    "name": "ipython",
    "version": 3
   },
   "file_extension": ".py",
   "mimetype": "text/x-python",
   "name": "python",
   "nbconvert_exporter": "python",
   "pygments_lexer": "ipython3",
   "version": "3.11.0"
  }
 },
 "nbformat": 4,
 "nbformat_minor": 5
}
