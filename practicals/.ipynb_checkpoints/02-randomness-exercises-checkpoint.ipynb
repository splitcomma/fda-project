{
 "cells": [
  {
   "cell_type": "markdown",
   "id": "53b8a97f",
   "metadata": {},
   "source": [
    "# Lecture 2: Randomness"
   ]
  },
  {
   "cell_type": "markdown",
   "id": "c0b07d02",
   "metadata": {},
   "source": [
    "## Exercise 1\n",
    "\n",
    "It is somewhat interesting that (5 * 4 * 3 * 2 * 1) perfectly divides (10 * 9 * 8 * 7 * 6) - there's no remainder.\n",
    "\n",
    "If we only wanted exactly four heads as opposed to five, the equivalent calculation would be (10 * 9 * 8 * 7) / (4 * 3 * 2 * 1).\n",
    "\n",
    "Does that evenly divide too? What is the formula in general?\n",
    "\n",
    "Does it always come out as a positive whole number?"
   ]
  },
  {
   "cell_type": "code",
   "execution_count": 1,
   "id": "90323b14",
   "metadata": {},
   "outputs": [
    {
     "name": "stdout",
     "output_type": "stream",
     "text": [
      "252 210 120 45 10 1\n"
     ]
    }
   ],
   "source": [
    "FiveHeads = (10*9*8*7*6) // (5*4*3*2*1)\n",
    "FourHeads = (10*9*8*7) // (4*3*2*1)\n",
    "ThreeHeads = (10*9*8) // (3*2*1)\n",
    "TwoHeads = (10*9) // (2*1)\n",
    "OneHead = (10) // (1)\n",
    "NoHead = 1\n",
    "\n",
    "print(FiveHeads,FourHeads,ThreeHeads,TwoHeads,OneHead,NoHead)"
   ]
  },
  {
   "cell_type": "markdown",
   "id": "9df4ed0d",
   "metadata": {},
   "source": [
    "In very simple terms we are deviding the number of probablities (positive whole numbers) with the duplication found in the set. In other words why binominal coefficient is an integer?"
   ]
  },
  {
   "cell_type": "markdown",
   "id": "dfe4b0ad",
   "metadata": {},
   "source": [
    "Theorem\n",
    "Let (nk) be a binomial coefficient.\n",
    "Then (nk) is an integer.\n",
    "\n",
    "If it is not the case that 0≤k≤n, then the result holds trivially.\n",
    "\n",
    "So let 0≤k≤n.\n",
    "\n",
    "By the definition of binomial coefficients:\n",
    "\n",
    "(nk)\t=\t\t\t\tn!k!(n−k)!\t\t\t\t\n",
    "=\t\t\t\tn(n−1)(n−2)…(n−k+1)k!\t\t\t\t\n",
    "The numerator is a product of k successive integers.\n",
    "\n",
    "From Factorial Divides Product of Successive Numbers, k! divides it."
   ]
  },
  {
   "cell_type": "markdown",
   "id": "526ddcfd",
   "metadata": {},
   "source": [
    "Other ways to prove can be non-combinatorial - Pascal's Rule "
   ]
  },
  {
   "cell_type": "code",
   "execution_count": 2,
   "id": "1dfa5baf",
   "metadata": {
    "scrolled": true
   },
   "outputs": [
    {
     "name": "stdout",
     "output_type": "stream",
     "text": [
      "Enter the number of rows for pascal triangle: 10\n",
      "           1 \n",
      "          1 1 \n",
      "         1 2 1 \n",
      "        1 3 3 1 \n",
      "       1 4 6 4 1 \n",
      "      1 5 10 10 5 1 \n",
      "     1 6 15 20 15 6 1 \n",
      "    1 7 21 35 35 21 7 1 \n",
      "   1 8 28 56 70 56 28 8 1 \n",
      "  1 9 36 84 126 126 84 36 9 1 \n"
     ]
    }
   ],
   "source": [
    " # importing factorial functions from math module\n",
    " from math import factorial\n",
    " # taking number of rows as input from user\n",
    " num = int (input (\"Enter the number of rows for pascal triangle: \"))\n",
    " # defining the outer iteration for number of loops\n",
    " for m in range(num):\n",
    "         # defining inner iteration for variables in each row\n",
    "             for n in range(num-m+1):\n",
    "                         # closing inner n iteration for left spacing\n",
    "                         print (end=\" \")\n",
    "         # inner n iteration for elements of pascal triangle\n",
    "             for n in range(m+1):\n",
    "                         # implementing the nCr = n!/((n-r)!*r!) formula\n",
    "                         print (factorial(m)//(factorial(n)*factorial(m-n)), end=\" \")\n",
    "             # using print statement for new line\n",
    "             print () "
   ]
  },
  {
   "cell_type": "markdown",
   "id": "6b90363c",
   "metadata": {},
   "source": [
    "## Exercise 2\n",
    "\n",
    "### Note that there are the same number of ways to get 4 tails as there to get 4 heads. Explain why this is."
   ]
  },
  {
   "cell_type": "markdown",
   "id": "70aeb6ca",
   "metadata": {},
   "source": [
    "Flippping a coin 10 times, there are 2^10 = 1024 possible outcomes. This means that there are 1024 possible combinations of heads and tails that you could get.\n",
    "\n",
    "If we want to know the number of ways to get 4 heads, we can think of this as choosing which 4 flips will land on heads and which 6 flips will land on tails. There are 10 Choose 4 = 210 ways to choose which 4 flips will be heads, and each of these choices corresponds to a unique combination of heads and tails.\n",
    "\n",
    "Similarly, there are 10 Choose 6 = 210 ways to choose which 6 flips will be tails. Since the number of ways to choose 4 heads is the same as the number of ways to choose 4 tails, the total number of ways to get 4 heads and 4 tails is 210 + 210 = 420. This is just over 40% of the total number of possible outcomes, which shows that it is fairly likely to get 4 heads and 4 tails when flipping a coin 10 times."
   ]
  },
  {
   "cell_type": "code",
   "execution_count": 3,
   "id": "1c0f4ed8",
   "metadata": {},
   "outputs": [
    {
     "data": {
      "image/png": "[encoded data removed]",
      "text/plain": [
       "<Figure size 432x288 with 1 Axes>"
      ]
     },
     "metadata": {
      "needs_background": "light"
     },
     "output_type": "display_data"
    }
   ],
   "source": [
    "import matplotlib.pyplot as plt\n",
    "import math\n",
    "\n",
    "# Calculate the number of ways to get 4 heads and 4 tails\n",
    "n = 10\n",
    "k = 4\n",
    "ways_heads = math.factorial(n) / (math.factorial(k) * math.factorial(n-k))\n",
    "ways_tails = math.factorial(n) / (math.factorial(k) * math.factorial(n-k))\n",
    "\n",
    "# Set up the bar chart\n",
    "fig, ax = plt.subplots()\n",
    "x = ['4 heads', '4 tails']\n",
    "y = [ways_heads, ways_tails]\n",
    "ax.bar(x, y)\n",
    "\n",
    "# Set the chart title and axes labels\n",
    "ax.set_title('Number of ways to get 4 heads and 4 tails')\n",
    "ax.set_ylabel('Number of ways')\n",
    "\n",
    "# Show the chart\n",
    "plt.show()"
   ]
  },
  {
   "cell_type": "markdown",
   "id": "42b344aa",
   "metadata": {},
   "source": [
    "## Exercise 3\n",
    "\n",
    "### Plot bar charts or histograms of any three different distributions listed at the following link:\n",
    "\n",
    "https://numpy.org/doc/stable/reference/random/generator.html#distributions"
   ]
  },
  {
   "cell_type": "markdown",
   "id": "70500b67",
   "metadata": {},
   "source": [
    "1. Uniform Distribution\n",
    "\n",
    "Uniform distributions are probability distributions with equally likely outcomes."
   ]
  },
  {
   "cell_type": "code",
   "execution_count": 8,
   "id": "75706b70",
   "metadata": {},
   "outputs": [],
   "source": [
    "import numpy as np\n",
    "import matplotlib.pyplot as plt"
   ]
  },
  {
   "cell_type": "code",
   "execution_count": 9,
   "id": "fd95ca9e",
   "metadata": {},
   "outputs": [
    {
     "data": {
      "image/png": "[encoded data removed]",
      "text/plain": [
       "<Figure size 432x288 with 1 Axes>"
      ]
     },
     "metadata": {
      "needs_background": "light"
     },
     "output_type": "display_data"
    }
   ],
   "source": [
    "# Generate random data from a uniform distribution\n",
    "low, high = 20, 100 # lower and upper bounds of the distribution\n",
    "dataUni = np.random.uniform(low, high, 10000)\n",
    "\n",
    "# Plot the data as a histogram\n",
    "plt.hist(dataUni, bins=100, color='b')\n",
    "\n",
    "# Add a title and labels to the plot\n",
    "plt.title('Uniform Distribution')\n",
    "plt.xlabel('Value')\n",
    "plt.ylabel('Probability')\n",
    "\n",
    "# Show the plot\n",
    "plt.show()"
   ]
  },
  {
   "cell_type": "markdown",
   "id": "133c87d9",
   "metadata": {},
   "source": [
    "2. Standard Normal Distribution \n",
    "\n"
   ]
  },
  {
   "cell_type": "code",
   "execution_count": 17,
   "id": "a0415e83",
   "metadata": {},
   "outputs": [
    {
     "data": {
      "image/png": "[encoded data removed]",
      "text/plain": [
       "<Figure size 432x288 with 1 Axes>"
      ]
     },
     "metadata": {
      "needs_background": "light"
     },
     "output_type": "display_data"
    }
   ],
   "source": [
    "# Generate random data from a Pareto distribution\n",
    "alpha, scale = 20, 1 # shape and scale parameters of the distribution\n",
    "data = np.random.pareto(alpha, 10000) * scale\n",
    "\n",
    "plt.hist(data, bins=100, color='r')\n",
    "\n",
    "plt.title('Pareto Distribution')\n",
    "plt.xlabel('Value')\n",
    "plt.ylabel('Probability')\n",
    "\n",
    "plt.show()"
   ]
  },
  {
   "cell_type": "markdown",
   "id": "1e90bb81",
   "metadata": {},
   "source": [
    "3. Laplace Distribution\n",
    "\n",
    "Laplace distribution represents the distribution of differences between two independent variables having identical exponential distributions. It is also called double exponential distribution."
   ]
  },
  {
   "cell_type": "code",
   "execution_count": null,
   "id": "182586e7",
   "metadata": {},
   "outputs": [],
   "source": [
    "# Generate random data from a Laplace distribution\n",
    "mu, b = 50, 200 # mean and scale parameter of the distribution\n",
    "data = np.random.laplace(mu, b, 10000)\n",
    "\n",
    "plt.hist(data, bins=100, color='g')\n",
    "\n",
    "plt.title('Laplace Distribution')\n",
    "plt.xlabel('Value')\n",
    "plt.ylabel('Probability')\n",
    "\n",
    "plt.show()"
   ]
  }
 ],
 "metadata": {
  "kernelspec": {
   "display_name": "Python 3 (ipykernel)",
   "language": "python",
   "name": "python3"
  },
  "language_info": {
   "codemirror_mode": {
    "name": "ipython",
    "version": 3
   },
   "file_extension": ".py",
   "mimetype": "text/x-python",
   "name": "python",
   "nbconvert_exporter": "python",
   "pygments_lexer": "ipython3",
   "version": "3.9.7"
  }
 },
 "nbformat": 4,
 "nbformat_minor": 5
}
