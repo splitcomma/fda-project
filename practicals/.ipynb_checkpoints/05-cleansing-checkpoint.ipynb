{
 "cells": [
  {
   "cell_type": "markdown",
   "id": "8ab5b9aa",
   "metadata": {},
   "source": [
    "## Exercise 1\n",
    "\n",
    "Write a Python function to remove all non-alphanumeric characters from a string."
   ]
  },
  {
   "cell_type": "code",
   "execution_count": 7,
   "id": "0935b24b",
   "metadata": {},
   "outputs": [],
   "source": [
    "def remove_non_alphanum(s):\n",
    "    # Use a regular expression to search for non-alphanumeric characters\n",
    "    import re\n",
    "    return re.sub(r'\\W+', '', s)"
   ]
  },
  {
   "cell_type": "markdown",
   "id": "8c2f0709",
   "metadata": {},
   "source": [
    "This function uses the re module to search for all non-alphanumeric characters in the string using a regular expression. The sub() function is then used to replace all of these characters with an empty string. This effectively removes the characters from the original string."
   ]
  },
  {
   "cell_type": "code",
   "execution_count": 8,
   "id": "d13dfc4e",
   "metadata": {},
   "outputs": [
    {
     "name": "stdout",
     "output_type": "stream",
     "text": [
      "Hellohowareyou\n"
     ]
    }
   ],
   "source": [
    "#  Testing the function:\n",
    "inputStr = \"Hello, how are you?!@#:::\"\n",
    "outputStr = remove_non_alphanum(inputStr)\n",
    "print(outputStr)"
   ]
  },
  {
   "cell_type": "markdown",
   "id": "faa3ca26",
   "metadata": {},
   "source": [
    "## Exercise 2\n",
    "\n",
    "Adapt the above code to capitalise the first letter of the iris species, using regular expressions."
   ]
  },
  {
   "cell_type": "code",
   "execution_count": 1,
   "id": "650c6b40",
   "metadata": {},
   "outputs": [
    {
     "name": "stdout",
     "output_type": "stream",
     "text": [
      "['Setosa', 'Versicolor', 'Virginica']\n"
     ]
    }
   ],
   "source": [
    "# Import the regular expression library\n",
    "import re\n",
    "\n",
    "# Load the iris dataset\n",
    "from sklearn import datasets\n",
    "iris = datasets.load_iris()\n",
    "\n",
    "# Get the species names\n",
    "species = iris.target_names\n",
    "\n",
    "# Use a regular expression to replace the first letter of each species name with its capitalized version\n",
    "species = [re.sub(r'\\b[a-z]', lambda x: x.group().upper(), s) for s in species]\n",
    "\n",
    "# Print the capitalized species names\n",
    "print(species)"
   ]
  },
  {
   "cell_type": "markdown",
   "id": "5e2e41fc",
   "metadata": {},
   "source": [
    "An another example of how you can use regular expressions, compilation, and the re.sub() function to capitalize the first letter of the iris species:"
   ]
  },
  {
   "cell_type": "code",
   "execution_count": 3,
   "id": "9dff7689",
   "metadata": {},
   "outputs": [
    {
     "name": "stdout",
     "output_type": "stream",
     "text": [
      "['Setosa', 'Versicolor', 'Virginica']\n"
     ]
    }
   ],
   "source": [
    "# Import the regular expression library\n",
    "import re\n",
    "\n",
    "# Load the iris dataset\n",
    "from sklearn import datasets\n",
    "iris = datasets.load_iris()\n",
    "\n",
    "# Get the species names\n",
    "species = iris.target_names\n",
    "\n",
    "# Compile a regular expression to find the first letter of each species name\n",
    "pattern = re.compile(r'\\b[a-z]')\n",
    "\n",
    "# Use the re.sub() function and the compiled regular expression to replace the first letter of each species name with its capitalized version\n",
    "species = [pattern.sub(lambda x: x.group().upper(), s) for s in species]\n",
    "\n",
    "# Print the capitalized species names\n",
    "print(species)"
   ]
  },
  {
   "cell_type": "code",
   "execution_count": null,
   "id": "7708fd53",
   "metadata": {},
   "outputs": [],
   "source": []
  }
 ],
 "metadata": {
  "kernelspec": {
   "display_name": "Python 3 (ipykernel)",
   "language": "python",
   "name": "python3"
  },
  "language_info": {
   "codemirror_mode": {
    "name": "ipython",
    "version": 3
   },
   "file_extension": ".py",
   "mimetype": "text/x-python",
   "name": "python",
   "nbconvert_exporter": "python",
   "pygments_lexer": "ipython3",
   "version": "3.9.7"
  }
 },
 "nbformat": 4,
 "nbformat_minor": 5
}
