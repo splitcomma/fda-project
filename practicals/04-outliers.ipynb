{
 "cells": [
  {
   "cell_type": "markdown",
   "id": "1841956e",
   "metadata": {},
   "source": [
    "# Lecture Outliers\n",
    "\n",
    "***"
   ]
  },
  {
   "cell_type": "markdown",
   "id": "1136334a",
   "metadata": {},
   "source": [
    " ## Exercise 1\n",
    "\n",
    "Create box plots on a single set of axes for all five experiments in the morley data set."
   ]
  },
  {
   "cell_type": "code",
   "execution_count": 1,
   "id": "c3038d1f",
   "metadata": {},
   "outputs": [],
   "source": [
    "import pandas as pd\n",
    "import numpy as np\n",
    "import matplotlib.pyplot as plt"
   ]
  },
  {
   "cell_type": "code",
   "execution_count": 2,
   "id": "c040791a",
   "metadata": {},
   "outputs": [
    {
     "name": "stdout",
     "output_type": "stream",
     "text": [
      "   Expt  Run  Speed\n",
      "0     1    1    850\n",
      "1     1    2    740\n",
      "2     1    3    900\n",
      "3     1    4   1070\n",
      "4     1    5    930\n"
     ]
    }
   ],
   "source": [
    "url = 'https://www.picostat.com/system/files/datasets/dataset-77488.csv'\n",
    "dfM = pd.read_csv(url)\n",
    "print(dfM.head())"
   ]
  },
  {
   "cell_type": "code",
   "execution_count": 3,
   "id": "d206b5c6",
   "metadata": {},
   "outputs": [
    {
     "data": {
      "image/png": "[encoded data removed]",
      "text/plain": [
       "<Figure size 432x288 with 1 Axes>"
      ]
     },
     "metadata": {
      "needs_background": "light"
     },
     "output_type": "display_data"
    }
   ],
   "source": [
    "# Separete the experiments using header \"Expt\"\n",
    "exp1 = dfM[dfM['Expt'] == 1]['Speed']\n",
    "exp2 = dfM[dfM['Expt'] == 2]['Speed']\n",
    "exp3 = dfM[dfM['Expt'] == 3]['Speed']\n",
    "exp4 = dfM[dfM['Expt'] == 4]['Speed']\n",
    "exp5 = dfM[dfM['Expt'] == 5]['Speed']\n",
    "\n",
    "# Creating boxplots on each experiment on single set axes\n",
    "fig, ax = plt.subplots()\n",
    "ax.boxplot([exp1, exp2, exp3, exp4, exp5])\n",
    "\n",
    "ax.set_title('Morley Data Set')\n",
    "ax.set_xlabel('Experiment')\n",
    "ax.set_ylabel('Speed (km/s)')\n",
    "\n",
    "plt.show()"
   ]
  },
  {
   "cell_type": "code",
   "execution_count": null,
   "id": "88e5e52e",
   "metadata": {},
   "outputs": [],
   "source": []
  },
  {
   "cell_type": "markdown",
   "id": "70af32a0",
   "metadata": {},
   "source": [
    "## Exercise 2\n",
    "\n",
    "Create box plots for all of the numercial variables in Fisher's Iris Data Set."
   ]
  },
  {
   "cell_type": "code",
   "execution_count": 4,
   "id": "0048b258",
   "metadata": {},
   "outputs": [
    {
     "name": "stdout",
     "output_type": "stream",
     "text": [
      "   Sepal_Length  Sepal_Width  Petal_Length  Petal_Width      Species\n",
      "0           5.1          3.5           1.4          0.2  Iris-setosa\n",
      "1           4.9          3.0           1.4          0.2  Iris-setosa\n",
      "2           4.7          3.2           1.3          0.2  Iris-setosa\n",
      "3           4.6          3.1           1.5          0.2  Iris-setosa\n",
      "4           5.0          3.6           1.4          0.2  Iris-setosa\n"
     ]
    }
   ],
   "source": [
    "url = 'https://archive.ics.uci.edu/ml/machine-learning-databases/iris/iris.data'\n",
    "# The raw csv file at the UCI Machine Learning repository does not have the attribute information included in the csv file\n",
    "# Create a list of column names col_names using the iris attribute information\n",
    "# https://www.angela1c.com/projects/iris_project/downloading-iris/\n",
    "col_names = ['Sepal_Length','Sepal_Width','Petal_Length','Petal_Width','Species']\n",
    "dfI =  pd.read_csv(url, names = col_names)\n",
    "\n",
    "print(dfI.head())"
   ]
  },
  {
   "cell_type": "code",
   "execution_count": 5,
   "id": "274d9520",
   "metadata": {},
   "outputs": [
    {
     "data": {
      "image/png": "[encoded data removed]",
      "text/plain": [
       "<Figure size 720x720 with 4 Axes>"
      ]
     },
     "metadata": {
      "needs_background": "light"
     },
     "output_type": "display_data"
    }
   ],
   "source": [
    "# Group the DataFrame by the flower species\n",
    "grouped = dfI.groupby('Species')\n",
    "\n",
    "# Extract the data for each numerical variable\n",
    "Sepal_Length = grouped['Sepal_Length'].apply(list)\n",
    "Sepal_Width = grouped['Sepal_Width'].apply(list)\n",
    "Petal_Length = grouped['Petal_Length'].apply(list)\n",
    "Petal_Width = grouped['Petal_Width'].apply(list)\n",
    "\n",
    "# Create the box plots\n",
    "fig, ax = plt.subplots(2, 2, figsize=(10, 10))\n",
    "ax[0, 0].boxplot(Sepal_Length)\n",
    "ax[0, 1].boxplot(Sepal_Width)\n",
    "ax[1, 0].boxplot(Petal_Length)\n",
    "ax[1, 1].boxplot(Petal_Width)\n",
    "\n",
    "# Set the custom labels for the x-axis\n",
    "ax[0, 0].set_xticklabels(dfI['Species'].unique())\n",
    "ax[0, 1].set_xticklabels(dfI['Species'].unique())\n",
    "ax[1, 0].set_xticklabels(dfI['Species'].unique())\n",
    "ax[1, 1].set_xticklabels(dfI['Species'].unique())\n",
    "\n",
    "# Add a title and labels to the plot\n",
    "ax[0, 0].set_title('Sepal Length')\n",
    "ax[0, 1].set_title('Sepal Width')\n",
    "ax[1, 0].set_title('Petal Length')\n",
    "ax[1, 1].set_title('Petal Width')\n",
    "\n",
    "plt.show()"
   ]
  },
  {
   "cell_type": "markdown",
   "id": "118064d5",
   "metadata": {},
   "source": [
    "## Exercise 3\n",
    "\n",
    "Adapt the above code and plots so that the overall plot is inversely propertional and the individual groups are directly proportional."
   ]
  },
  {
   "cell_type": "code",
   "execution_count": null,
   "id": "4c759f2e",
   "metadata": {},
   "outputs": [],
   "source": []
  }
 ],
 "metadata": {
  "kernelspec": {
   "display_name": "Python 3 (ipykernel)",
   "language": "python",
   "name": "python3"
  },
  "language_info": {
   "codemirror_mode": {
    "name": "ipython",
    "version": 3
   },
   "file_extension": ".py",
   "mimetype": "text/x-python",
   "name": "python",
   "nbconvert_exporter": "python",
   "pygments_lexer": "ipython3",
   "version": "3.9.7"
  }
 },
 "nbformat": 4,
 "nbformat_minor": 5
}
