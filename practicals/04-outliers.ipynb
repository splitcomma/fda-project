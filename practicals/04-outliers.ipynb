{
 "cells": [
  {
   "cell_type": "markdown",
   "id": "1841956e",
   "metadata": {},
   "source": [
    "# Lecture "
   ]
  },
  {
   "cell_type": "markdown",
   "id": "1136334a",
   "metadata": {},
   "source": [
    " ## Exercise 1\n",
    "\n",
    "Create box plots on a single set of axes for all five experiments in the morley data set."
   ]
  },
  {
   "cell_type": "code",
   "execution_count": 1,
   "id": "c3038d1f",
   "metadata": {},
   "outputs": [],
   "source": [
    "import pandas as pd\n",
    "import numpy as np\n",
    "import matplotlib.pyplot as plt"
   ]
  },
  {
   "cell_type": "code",
   "execution_count": 2,
   "id": "c040791a",
   "metadata": {},
   "outputs": [
    {
     "name": "stdout",
     "output_type": "stream",
     "text": [
      "   Expt  Run  Speed\n",
      "0     1    1    850\n",
      "1     1    2    740\n",
      "2     1    3    900\n",
      "3     1    4   1070\n",
      "4     1    5    930\n"
     ]
    }
   ],
   "source": [
    "url = 'https://www.picostat.com/system/files/datasets/dataset-77488.csv'\n",
    "df = pd.read_csv(url)\n",
    "print(df.head())"
   ]
  },
  {
   "cell_type": "code",
   "execution_count": 4,
   "id": "d206b5c6",
   "metadata": {},
   "outputs": [
    {
     "data": {
      "image/png": "[encoded data removed]",
      "text/plain": [
       "<Figure size 432x288 with 1 Axes>"
      ]
     },
     "metadata": {
      "needs_background": "light"
     },
     "output_type": "display_data"
    }
   ],
   "source": [
    "# Separete the experiments using header \"Expt\"\n",
    "exp1 = df[df['Expt'] == 1]['Speed']\n",
    "exp2 = df[df['Expt'] == 2]['Speed']\n",
    "exp3 = df[df['Expt'] == 3]['Speed']\n",
    "exp4 = df[df['Expt'] == 4]['Speed']\n",
    "exp5 = df[df['Expt'] == 5]['Speed']\n",
    "\n",
    "# Creating boxplots on each experiment on single set axes\n",
    "fig, ax = plt.subplots()\n",
    "ax.boxplot([exp1, exp2, exp3, exp4, exp5])\n",
    "\n",
    "ax.set_title('Morley Data Set')\n",
    "ax.set_xlabel('Experiment')\n",
    "ax.set_ylabel('Speed (km/s)')\n",
    "\n",
    "plt.show()"
   ]
  },
  {
   "cell_type": "code",
   "execution_count": null,
   "id": "88e5e52e",
   "metadata": {},
   "outputs": [],
   "source": []
  },
  {
   "cell_type": "markdown",
   "id": "70af32a0",
   "metadata": {},
   "source": [
    "## Exercise 2\n",
    "\n",
    "Create box plots for all of the numercial variables in Fisher's Iris Data Set."
   ]
  },
  {
   "cell_type": "code",
   "execution_count": null,
   "id": "f389eef2",
   "metadata": {},
   "outputs": [],
   "source": []
  },
  {
   "cell_type": "markdown",
   "id": "118064d5",
   "metadata": {},
   "source": [
    "## Exercise 3\n",
    "\n",
    "Adapt the above code and plots so that the overall plot is inversely propertional and the individual groups are directly proportional."
   ]
  },
  {
   "cell_type": "code",
   "execution_count": null,
   "id": "4c759f2e",
   "metadata": {},
   "outputs": [],
   "source": []
  }
 ],
 "metadata": {
  "kernelspec": {
   "display_name": "Python 3 (ipykernel)",
   "language": "python",
   "name": "python3"
  },
  "language_info": {
   "codemirror_mode": {
    "name": "ipython",
    "version": 3
   },
   "file_extension": ".py",
   "mimetype": "text/x-python",
   "name": "python",
   "nbconvert_exporter": "python",
   "pygments_lexer": "ipython3",
   "version": "3.9.7"
  }
 },
 "nbformat": 4,
 "nbformat_minor": 5
}
