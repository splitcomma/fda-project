{
 "cells": [
  {
   "cell_type": "markdown",
   "id": "56282d3f",
   "metadata": {},
   "source": [
    "# Assessment: Fundamentals of Data Analysis\n",
    "### Winter 22/23\n",
    "***\n",
    " \n",
    "Author: Andras Csullog"
   ]
  },
  {
   "cell_type": "markdown",
   "id": "6200637f",
   "metadata": {},
   "source": [
    "# Normal Distribution Notebook\n",
    "\n",
    "The normal distribution, also known as the Gaussian distribution, is a probability distribution that is symmetric about the mean, with its spread determined by the standard deviation. The normal distribution is defined by the following probability density function:\n",
    "\n",
    "$f(x) = \\frac{1}{\\sqrt{2\\pi\\sigma^2}} e^{-\\frac{(x-\\mu)^2}{2\\sigma^2}}$\n",
    "\n",
    "where $\\mu$ is the mean and $\\sigma$ is the standard deviation.\n",
    "\n",
    "***\n",
    "\n",
    "### Applications of the Normal Distribution\n",
    "#### The normal distribution has a wide range of applications, including:\n",
    "\n",
    "Modeling data that is naturally symmetric, such as human heights or IQ scores. Predicting the probability of events occurring, such as the probability of a coin flip landing heads or tails. Modeling the behavior of stock prices or other financial data. Overall, the normal distribution is a powerful tool in statistical analysis and probability theory, and it has a wide range of applications in a variety of fields.\n",
    "\n",
    "***\n",
    "\n",
    "## Main Concepts\n",
    "\n",
    "### Mean and Standard Deviation\n",
    "\n",
    "The mean of a normal distribution is the center of the distribution, and the standard deviation determines the spread of the distribution. A larger standard deviation means that the data is more spread out, while a smaller standard deviation means that the data is more concentrated around the mean."
   ]
  },
  {
   "cell_type": "code",
   "execution_count": null,
   "id": "57eae2e3",
   "metadata": {},
   "outputs": [],
   "source": []
  }
 ],
 "metadata": {
  "kernelspec": {
   "display_name": "Python 3 (ipykernel)",
   "language": "python",
   "name": "python3"
  },
  "language_info": {
   "codemirror_mode": {
    "name": "ipython",
    "version": 3
   },
   "file_extension": ".py",
   "mimetype": "text/x-python",
   "name": "python",
   "nbconvert_exporter": "python",
   "pygments_lexer": "ipython3",
   "version": "3.9.7"
  }
 },
 "nbformat": 4,
 "nbformat_minor": 5
}
