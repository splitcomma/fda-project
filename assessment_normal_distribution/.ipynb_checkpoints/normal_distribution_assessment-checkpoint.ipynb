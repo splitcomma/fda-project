{
 "cells": [
  {
   "cell_type": "markdown",
   "id": "56282d3f",
   "metadata": {},
   "source": [
    "# Assessment: Fundamentals of Data Analysis\n",
    "### Winter 22/23\n",
    "***\n",
    " \n",
    "Author: Andras Csullog"
   ]
  },
  {
   "cell_type": "markdown",
   "id": "6200637f",
   "metadata": {},
   "source": [
    "# Normal Distribution Notebook\n",
    "\n",
    "The normal distribution, also known as the Gaussian distribution, is a probability distribution that is symmetric about the mean, with its spread determined by the standard deviation. The normal distribution is defined by the following probability density function:\n",
    "\n",
    "$f(x) = \\frac{1}{\\sqrt{2\\pi\\sigma^2}} e^{-\\frac{(x-\\mu)^2}{2\\sigma^2}}$\n",
    "\n",
    "where $\\mu$ is the mean and $\\sigma$ is the standard deviation.\n",
    "\n",
    "***\n",
    "\n",
    "### Applications of the Normal Distribution\n",
    "#### The normal distribution has a wide range of applications, including:\n",
    "\n",
    "Modeling data that is naturally symmetric, such as human heights or IQ scores. Predicting the probability of events occurring, such as the probability of a coin flip landing heads or tails. Modeling the behavior of stock prices or other financial data. Overall, the normal distribution is a powerful tool in statistical analysis and probability theory, and it has a wide range of applications in a variety of fields.\n",
    "\n",
    "***\n",
    "\n",
    "## Main Concepts\n",
    "\n",
    "### Mean and Standard Deviation\n",
    "\n",
    "The mean of a normal distribution is the center of the distribution, and the standard deviation determines the spread of the distribution. A larger standard deviation means that the data is more spread out, while a smaller standard deviation means that the data is more concentrated around the mean.\n",
    "\n",
    "### Symmetry\n",
    "\n",
    "The normal distribution is symmetric about the mean, which means that if you were to fold it along the y-axis, the two halves would match perfectly. This property makes the normal distribution very useful in statistical analysis, as it allows us to make predictions about the probability of events occurring.\n",
    "\n",
    "### The 68-95-99.7 Rule\n",
    "\n",
    "One of the most useful properties of the normal distribution is the 68-95-99.7 rule, which states that:\n",
    "\n",
    "- Approximately 68% of the data lies within one standard deviation of the mean.\n",
    "- Approximately 95% of the data lies within two standard deviations of the mean.\n",
    "- Approximately 99.7% of the data lies within three standard deviations of the mean.\n",
    "\n",
    "This rule is often used to make predictions about the probability of events occurring in a normally distributed data set.\n",
    "\n",
    "### Standard Normal Distribution\n",
    "The standard normal distribution is a normal distribution with a mean of 0 and a standard deviation of 1. It is often used as a reference distribution when performing statistical tests or making predictions about a normally distributed population.\n",
    "\n",
    "### Z-Score\n",
    "A z-score is a measure of how many standard deviations a data point is from the mean of a distribution. It is calculated as:\n",
    "\n",
    "$$z = \\frac{x - \\mu}{\\sigma}$$\n",
    "\n",
    "where $x$ is the data point, $\\mu$ is the mean, and $\\sigma$ is the standard deviation.\n",
    "\n",
    "The z-score can be used to determine the probability of a data point occurring in a normal distribution. For example, a z-score of 1.96 corresponds to a probability of 95% (since approximately 95% of the data lies within two standard deviations of the mean).\n",
    "\n",
    "### Normal Distribution Tables\n",
    "Normal distribution tables are used to look up the probability of a data point occurring in a normal distribution. These tables list the z-scores corresponding to various probabilities, allowing us to determine the probability of a data point occurring given its z-score.\n",
    "\n",
    "### Central Limit Theorem\n",
    "The central limit theorem states that the distribution of the mean of a large number of independent, identically distributed random variables will be approximately normal, regardless of the underlying distribution of the variables. This theorem has important implications in statistical analysis, as it allows us to make predictions about the mean of a population based on a sample, provided that the sample is large enough.\n",
    "\n"
   ]
  },
  {
   "cell_type": "code",
   "execution_count": null,
   "id": "57eae2e3",
   "metadata": {},
   "outputs": [],
   "source": [
    "import matplotlib.pyplot as plt\n",
    "import numpy as np\n",
    "\n",
    "# Generate 1000 random samples from a normal distribution with a mean of 0 and a standard deviation of 1\n",
    "samples = np.random.normal(0, 1, 1000)\n",
    "\n",
    "# Plot the histogram of the samples\n",
    "plt.hist(samples, bins=50, density=True)\n",
    "plt.show()"
   ]
  },
  {
   "cell_type": "code",
   "execution_count": null,
   "id": "95093842",
   "metadata": {},
   "outputs": [],
   "source": [
    "import matplotlib.pyplot as plt\n",
    "from scipy import stats\n",
    "\n",
    "# Generate 1000 random samples from a normal distribution with a mean of 0 and a standard deviation of 1\n",
    "samples = np.random.normal(0, 1, 1000)\n",
    "\n",
    "# Create the Q-Q plot\n",
    "fig = plt.figure()\n",
    "res = stats.probplot(samples, plot=plt)\n",
    "plt.show()"
   ]
  }
 ],
 "metadata": {
  "kernelspec": {
   "display_name": "Python 3 (ipykernel)",
   "language": "python",
   "name": "python3"
  },
  "language_info": {
   "codemirror_mode": {
    "name": "ipython",
    "version": 3
   },
   "file_extension": ".py",
   "mimetype": "text/x-python",
   "name": "python",
   "nbconvert_exporter": "python",
   "pygments_lexer": "ipython3",
   "version": "3.9.7"
  }
 },
 "nbformat": 4,
 "nbformat_minor": 5
}
